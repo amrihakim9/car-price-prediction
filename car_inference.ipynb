{
 "cells": [
  {
   "cell_type": "markdown",
   "metadata": {},
   "source": [
    "# Model Inference"
   ]
  },
  {
   "cell_type": "code",
   "execution_count": 1,
   "metadata": {},
   "outputs": [
    {
     "name": "stdout",
     "output_type": "stream",
     "text": [
      "Predicted price: 14463.826109668109\n"
     ]
    }
   ],
   "source": [
    "import pandas as pd\n",
    "import pickle\n",
    "\n",
    "# Fungsi untuk memuat model\n",
    "def load_model(model_path):\n",
    "    # Load the model from the file\n",
    "    with open(model_path, 'rb') as file:\n",
    "        model = pickle.load(file)\n",
    "    return model\n",
    "\n",
    "# Fungsi untuk memastikan tipe data yang benar\n",
    "def prepare_data(data):\n",
    "    # Convert data to DataFrame\n",
    "    df = pd.DataFrame(data)\n",
    "    \n",
    "    # Pastikan tipe data sesuai\n",
    "    df['wheelbase'] = df['wheelbase'].astype(float)\n",
    "    df['carlength'] = df['carlength'].astype(float)\n",
    "    df['carwidth'] = df['carwidth'].astype(float)\n",
    "    df['curbweight'] = df['curbweight'].astype(int)\n",
    "    df['enginesize'] = df['enginesize'].astype(int)\n",
    "    df['boreratio'] = df['boreratio'].astype(float)\n",
    "    df['horsepower'] = df['horsepower'].astype(int)\n",
    "    df['citympg'] = df['citympg'].astype(int)\n",
    "    df['highwaympg'] = df['highwaympg'].astype(int)\n",
    "    df['CarName_freq'] = df['CarName_freq'].astype(object)\n",
    "    df['aspiration'] = df['aspiration'].astype(object)\n",
    "    df['carbody'] = df['carbody'].astype(object)\n",
    "    df['drivewheel'] = df['drivewheel'].astype(object)\n",
    "    df['enginelocation'] = df['enginelocation'].astype(object)\n",
    "    df['enginetype'] = df['enginetype'].astype(object)\n",
    "    df['cylindernumber'] = df['cylindernumber'].astype(object)\n",
    "    df['fuelsystem'] = df['fuelsystem'].astype(object)\n",
    "    \n",
    "    return df\n",
    "\n",
    "# Fungsi untuk melakukan prediksi harga mobil\n",
    "def predict_price(model, data):\n",
    "    \"\"\"\n",
    "    Fungsi untuk memprediksi harga mobil.\n",
    "    Parameters:\n",
    "    - model: model yang sudah dilatih dan disimpan\n",
    "    - data: dictionary berisi fitur-fitur mobil\n",
    "    \n",
    "    Returns:\n",
    "    - prediksi harga mobil\n",
    "    \"\"\"\n",
    "    # Prepare the data\n",
    "    df = prepare_data(data)\n",
    "    \n",
    "    # Predict the price\n",
    "    pred = model.predict(df)\n",
    "    return pred\n",
    "\n",
    "# Contoh penggunaan\n",
    "if __name__ == \"__main__\":\n",
    "    # Path ke model yang disimpan\n",
    "    model_path = 'random_forest_regressor_model.pkl'\n",
    "    \n",
    "    # Load the model\n",
    "    model = load_model(model_path)\n",
    "    \n",
    "    # Contoh data baru untuk prediksi\n",
    "    data = {\n",
    "        'wheelbase': [88.6],\n",
    "        'carlength': [168.8],\n",
    "        'carwidth': [64.1],\n",
    "        'curbweight': [2548],\n",
    "        'enginesize': [130],\n",
    "        'boreratio': [3.47],\n",
    "        'horsepower': [111],\n",
    "        'citympg': [21],\n",
    "        'highwaympg': [27],\n",
    "        'CarName_freq': [10],\n",
    "        'aspiration': ['std'],\n",
    "        'carbody': ['hatchback'],\n",
    "        'drivewheel': ['fwd'],\n",
    "        'enginelocation': ['front'],\n",
    "        'enginetype': ['ohcf'],\n",
    "        'cylindernumber': ['four'],\n",
    "        'fuelsystem': ['mpfi']\n",
    "    }\n",
    "    \n",
    "    # Predict price\n",
    "    prediction = predict_price(model, data)\n",
    "    print(f\"Predicted price: {prediction[0]}\")"
   ]
  },
  {
   "cell_type": "markdown",
   "metadata": {},
   "source": [
    "Harga pada data baru adalah approx 14464 US Dollar."
   ]
  }
 ],
 "metadata": {
  "kernelspec": {
   "display_name": "base",
   "language": "python",
   "name": "python3"
  },
  "language_info": {
   "codemirror_mode": {
    "name": "ipython",
    "version": 3
   },
   "file_extension": ".py",
   "mimetype": "text/x-python",
   "name": "python",
   "nbconvert_exporter": "python",
   "pygments_lexer": "ipython3",
   "version": "3.11.7"
  }
 },
 "nbformat": 4,
 "nbformat_minor": 2
}
